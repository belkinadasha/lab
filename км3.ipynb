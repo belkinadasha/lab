{
  "nbformat": 4,
  "nbformat_minor": 0,
  "metadata": {
    "colab": {
      "provenance": [],
      "authorship_tag": "ABX9TyOl542PZExrVH2vgsUuDHPJ",
      "include_colab_link": true
    },
    "kernelspec": {
      "name": "python3",
      "display_name": "Python 3"
    },
    "language_info": {
      "name": "python"
    }
  },
  "cells": [
    {
      "cell_type": "markdown",
      "metadata": {
        "id": "view-in-github",
        "colab_type": "text"
      },
      "source": [
        "<a href=\"https://colab.research.google.com/github/belkinadasha/lab/blob/main/%D0%BA%D0%BC3.ipynb\" target=\"_parent\"><img src=\"https://colab.research.google.com/assets/colab-badge.svg\" alt=\"Open In Colab\"/></a>"
      ]
    },
    {
      "cell_type": "code",
      "execution_count": 1,
      "metadata": {
        "colab": {
          "base_uri": "https://localhost:8080/"
        },
        "id": "iHPyIYLrY-S5",
        "outputId": "a4081922-764e-4c1a-bb15-204e446598f5"
      },
      "outputs": [
        {
          "output_type": "stream",
          "name": "stdout",
          "text": [
            "45.68784321319615\n"
          ]
        }
      ],
      "source": [
        "T=273.15\n",
        "p=1.0133*10**5\n",
        "V=64\n",
        "R=8.3145\n",
        "\n",
        "M=(12+1*4)*10**(-3)\n",
        "m=(p*V*M)/(R*T)\n",
        "print(m)"
      ]
    },
    {
      "cell_type": "code",
      "source": [
        "pip install CoolProp"
      ],
      "metadata": {
        "colab": {
          "base_uri": "https://localhost:8080/"
        },
        "id": "XTsratJodIMc",
        "outputId": "49fa9bd8-7d97-4ee5-804d-7c7b838844df"
      },
      "execution_count": 5,
      "outputs": [
        {
          "output_type": "stream",
          "name": "stdout",
          "text": [
            "Looking in indexes: https://pypi.org/simple, https://us-python.pkg.dev/colab-wheels/public/simple/\n",
            "Collecting CoolProp\n",
            "  Downloading CoolProp-6.4.3.post1-cp39-cp39-manylinux_2_17_x86_64.manylinux2014_x86_64.whl (6.2 MB)\n",
            "\u001b[2K     \u001b[90m━━━━━━━━━━━━━━━━━━━━━━━━━━━━━━━━━━━━━━━━\u001b[0m \u001b[32m6.2/6.2 MB\u001b[0m \u001b[31m38.9 MB/s\u001b[0m eta \u001b[36m0:00:00\u001b[0m\n",
            "\u001b[?25hInstalling collected packages: CoolProp\n",
            "Successfully installed CoolProp-6.4.3.post1\n"
          ]
        }
      ]
    },
    {
      "cell_type": "code",
      "source": [
        "import CoolProp.CoolProp as ct \n",
        "import matplotlib.pyplot as plt\n",
        "import numpy as np\n",
        "\n",
        "t=np.linspace(0,383.15,100)\n",
        "V=64\n",
        "M=0.0016\n",
        "p=1.0133*10**5\n",
        "\n",
        "q=1\n",
        "\n",
        "d=ct.PropsSI(\"D\",\"P\",p,\"T\",t,\"CH4\")\n",
        "m=d*V\n",
        "t1=ct.PropsSI(\"T\",\"P\",p,\"Q\",1,\"CH4\")\n",
        "d1=ct.PropsSI(\"D\",\"P\",p,\"T\",100,\"CH4\")\n",
        "m1=d1*V\n",
        "m2=(p*V*M)/(R*T)\n",
        "plt.plot(t,m,m2,\"g\")\n",
        "plt.scatter(111.667,27030.78)\n",
        "plt.title(\"график\")\n",
        "plt.xlabel(\"t\")\n",
        "plt.ylabel(\"m\")\n",
        "plt.grid()\n",
        "plt.show()\n",
        "print(m)\n",
        "print(\"t1\",\"t\")\n",
        "print(\"m1\",\"m\")"
      ],
      "metadata": {
        "colab": {
          "base_uri": "https://localhost:8080/",
          "height": 941
        },
        "id": "bnkJ-yk6a6Vi",
        "outputId": "e84af42a-2373-4e09-e73d-9b7eacb3035b"
      },
      "execution_count": 22,
      "outputs": [
        {
          "output_type": "display_data",
          "data": {
            "text/plain": [
              "<Figure size 640x480 with 1 Axes>"
            ],
            "image/png": "[encoded data removed]"
          },
          "metadata": {}
        },
        {
          "output_type": "stream",
          "name": "stdout",
          "text": [
            "[           inf            inf            inf            inf\n",
            "            inf            inf            inf            inf\n",
            "            inf            inf            inf            inf\n",
            "            inf            inf            inf            inf\n",
            "            inf            inf            inf            inf\n",
            "            inf            inf            inf            inf\n",
            " 28711.02103293 28376.54415535 28036.6189743  27690.59521596\n",
            " 27337.75622772   115.59787265   111.32945148   107.3966483\n",
            "   103.75602978   100.37261571    97.2174997     94.26640113\n",
            "    91.4986786     88.8966134     86.44486947    84.13007692\n",
            "    81.94050518    79.86580316    77.89679007    76.02528529\n",
            "    74.24396866    72.54626475    70.92624625    69.37855266\n",
            "    67.89832151    66.48112973    65.12294346    63.82007479\n",
            "    62.56914437    61.36704895    60.21093298    59.09816378\n",
            "    58.02630978    56.99312118    55.99651301    55.03454996\n",
            "    54.10543299    53.20748732    52.3391517     51.49896881\n",
            "    50.68557664    49.8977007     49.13414702    48.39379577\n",
            "    47.67559558    46.9785583     46.30175425    45.64430794\n",
            "    45.00539411    44.38423418    43.78009293    43.1922755\n",
            "    42.62012466    42.06301825    41.52036685    40.99161166\n",
            "    40.4762225     39.97369602    39.48355395    39.00534162\n",
            "    38.53862645    38.08299668    37.63806005    37.20344271\n",
            "    36.77878813    36.36375609    35.95802177    35.56127488\n",
            "    35.17321883    34.79357002    34.4220571     34.05842032\n",
            "    33.70241091    33.35379053    33.0123307     32.67781229]\n",
            "t1 t\n",
            "m1 m\n"
          ]
        }
      ]
    }
  ]
}